{
  "nbformat": 4,
  "nbformat_minor": 0,
  "metadata": {
    "colab": {
      "provenance": [],
      "collapsed_sections": []
    },
    "kernelspec": {
      "name": "python3",
      "display_name": "Python 3"
    },
    "language_info": {
      "name": "python"
    }
  },
  "cells": [
    {
      "cell_type": "markdown",
      "source": [
        "**Basic Python**"
      ],
      "metadata": {
        "id": "pS7nTFDF1tp_"
      }
    },
    {
      "cell_type": "markdown",
      "source": [
        "**1. Split this string**"
      ],
      "metadata": {
        "id": "dczoARI113Td"
      }
    },
    {
      "cell_type": "code",
      "source": [
        "s = \"Hi there Sam!\""
      ],
      "metadata": {
        "id": "4gqeB9zv1yld"
      },
      "execution_count": 3,
      "outputs": []
    },
    {
      "cell_type": "code",
      "source": [
        "print(s.split())"
      ],
      "metadata": {
        "colab": {
          "base_uri": "https://localhost:8080/"
        },
        "id": "QxrkWJFc2mop",
        "outputId": "265e5f69-a717-46ca-80fe-05cadfb654a1"
      },
      "execution_count": 4,
      "outputs": [
        {
          "output_type": "stream",
          "name": "stdout",
          "text": [
            "['Hi', 'there', 'Sam!']\n"
          ]
        }
      ]
    },
    {
      "cell_type": "markdown",
      "source": [
        "**2. Use .format() to print the following string.**"
      ],
      "metadata": {
        "id": "Msic0qBF2uha"
      }
    },
    {
      "cell_type": "markdown",
      "source": [
        "**Output should be: The diameter of Earth is 12742 kilometers.**"
      ],
      "metadata": {
        "id": "Tc368rQZ22QC"
      }
    },
    {
      "cell_type": "code",
      "source": [
        "planet = \"Earth\"\n",
        "diameter = 12742\n"
      ],
      "metadata": {
        "id": "mSzgix6b24sq"
      },
      "execution_count": 5,
      "outputs": []
    },
    {
      "cell_type": "code",
      "source": [
        "print(\"The diameter of {} is {} kilometers.\".format(planet, diameter))\n"
      ],
      "metadata": {
        "colab": {
          "base_uri": "https://localhost:8080/"
        },
        "id": "LTeqmYn23LH1",
        "outputId": "0c8da1b9-aff9-498f-b28d-bc9ad4e23085"
      },
      "execution_count": 6,
      "outputs": [
        {
          "output_type": "stream",
          "name": "stdout",
          "text": [
            "The diameter of Earth is 12742 kilometers.\n"
          ]
        }
      ]
    },
    {
      "cell_type": "markdown",
      "source": [
        "**3. In this nest dictionary grab the word \"hello\"**"
      ],
      "metadata": {
        "id": "9pNu5g363T2A"
      }
    },
    {
      "cell_type": "code",
      "source": [
        "d = {'k1':[1,2,3,{'tricky':['oh','man','inception',{'target':[1,2,3,'hello']}]}]}"
      ],
      "metadata": {
        "id": "i_-PGg3S3X0q"
      },
      "execution_count": 7,
      "outputs": []
    },
    {
      "cell_type": "code",
      "source": [
        "print(d['k1'][3]['tricky'][3]['target'][3])"
      ],
      "metadata": {
        "colab": {
          "base_uri": "https://localhost:8080/"
        },
        "id": "owu7Hwni3ngf",
        "outputId": "991c956b-3187-4192-b9a8-6b8997de85e4"
      },
      "execution_count": 8,
      "outputs": [
        {
          "output_type": "stream",
          "name": "stdout",
          "text": [
            "hello\n"
          ]
        }
      ]
    },
    {
      "cell_type": "markdown",
      "source": [
        "**Numpy**"
      ],
      "metadata": {
        "id": "gkApfJLc3zgS"
      }
    },
    {
      "cell_type": "code",
      "source": [
        "import numpy as np"
      ],
      "metadata": {
        "id": "_t1iZmjN3-j2"
      },
      "execution_count": 9,
      "outputs": []
    },
    {
      "cell_type": "markdown",
      "source": [
        "**4.1 Create an array of 10 zeros?**"
      ],
      "metadata": {
        "id": "yB7WrGNt4GuB"
      }
    },
    {
      "cell_type": "markdown",
      "source": [
        "**4.2 Create an array of 10 fives?**"
      ],
      "metadata": {
        "id": "r1s63bAo4Icn"
      }
    },
    {
      "cell_type": "code",
      "source": [
        "np.zeros(10)"
      ],
      "metadata": {
        "colab": {
          "base_uri": "https://localhost:8080/"
        },
        "id": "ZVDVejL04Mjc",
        "outputId": "7a15e1f7-802d-49be-f5c5-1cd8b849e6dc"
      },
      "execution_count": 11,
      "outputs": [
        {
          "output_type": "execute_result",
          "data": {
            "text/plain": [
              "array([0., 0., 0., 0., 0., 0., 0., 0., 0., 0.])"
            ]
          },
          "metadata": {},
          "execution_count": 11
        }
      ]
    },
    {
      "cell_type": "code",
      "source": [
        "np.ones(10)*5"
      ],
      "metadata": {
        "colab": {
          "base_uri": "https://localhost:8080/"
        },
        "id": "cj1va4-84VRB",
        "outputId": "d288c7af-2f29-45dd-9b3f-352a4bcb8746"
      },
      "execution_count": 12,
      "outputs": [
        {
          "output_type": "execute_result",
          "data": {
            "text/plain": [
              "array([5., 5., 5., 5., 5., 5., 5., 5., 5., 5.])"
            ]
          },
          "metadata": {},
          "execution_count": 12
        }
      ]
    },
    {
      "cell_type": "markdown",
      "source": [
        "**5. Create an array of all even integers from 20 to 35**"
      ],
      "metadata": {
        "id": "7Lx7zlkY4bOz"
      }
    },
    {
      "cell_type": "code",
      "source": [
        "np.arange(20,35,2)"
      ],
      "metadata": {
        "colab": {
          "base_uri": "https://localhost:8080/"
        },
        "id": "EhkQ4OR84dLB",
        "outputId": "329d3ca9-172d-4f29-c6f8-91fc59b57858"
      },
      "execution_count": 14,
      "outputs": [
        {
          "output_type": "execute_result",
          "data": {
            "text/plain": [
              "array([20, 22, 24, 26, 28, 30, 32, 34])"
            ]
          },
          "metadata": {},
          "execution_count": 14
        }
      ]
    },
    {
      "cell_type": "markdown",
      "source": [
        "**6. Create 3x3 matrix with values ranging from 0 to 8**"
      ],
      "metadata": {
        "id": "P435TJ3z4naA"
      }
    },
    {
      "cell_type": "code",
      "source": [
        "np.arange(0,9).reshape((3,3))"
      ],
      "metadata": {
        "colab": {
          "base_uri": "https://localhost:8080/"
        },
        "id": "q4yo5qoV4qzD",
        "outputId": "75b9648b-aff5-4932-abac-b96a1705734d"
      },
      "execution_count": 15,
      "outputs": [
        {
          "output_type": "execute_result",
          "data": {
            "text/plain": [
              "array([[0, 1, 2],\n",
              "       [3, 4, 5],\n",
              "       [6, 7, 8]])"
            ]
          },
          "metadata": {},
          "execution_count": 15
        }
      ]
    },
    {
      "cell_type": "markdown",
      "source": [
        "**7. Concatenate a and b**"
      ],
      "metadata": {
        "id": "-71dTvvD4xwV"
      }
    },
    {
      "cell_type": "code",
      "source": [
        "a=np.array([1,2,3])\n",
        "b=np.array([4,5,6])"
      ],
      "metadata": {
        "id": "MEsty7A341D3"
      },
      "execution_count": 16,
      "outputs": []
    },
    {
      "cell_type": "code",
      "source": [
        "np.concatenate((a,b), axis=0, out=None)"
      ],
      "metadata": {
        "colab": {
          "base_uri": "https://localhost:8080/"
        },
        "id": "FU9WMJAS4-wm",
        "outputId": "daf67d9c-cd9c-446c-9b8b-71371b811eba"
      },
      "execution_count": 17,
      "outputs": [
        {
          "output_type": "execute_result",
          "data": {
            "text/plain": [
              "array([1, 2, 3, 4, 5, 6])"
            ]
          },
          "metadata": {},
          "execution_count": 17
        }
      ]
    },
    {
      "cell_type": "markdown",
      "source": [
        "**Pandas**"
      ],
      "metadata": {
        "id": "4r4MOtDN5DET"
      }
    },
    {
      "cell_type": "markdown",
      "source": [
        "**8. Create a dataframe with 3 rows and 2 columns**"
      ],
      "metadata": {
        "id": "V2yZBboJ5E9y"
      }
    },
    {
      "cell_type": "code",
      "source": [
        "import pandas as pd\n",
        "df = pd.DataFrame(index=np.arange(3), columns=np.arange(2))"
      ],
      "metadata": {
        "id": "yckOyd8K5Lwv"
      },
      "execution_count": 18,
      "outputs": []
    },
    {
      "cell_type": "code",
      "source": [
        "print(df)"
      ],
      "metadata": {
        "colab": {
          "base_uri": "https://localhost:8080/"
        },
        "id": "xfg8D1-Y5NxN",
        "outputId": "8939f4e1-5c22-4a77-a4a1-0bb2fa940950"
      },
      "execution_count": 19,
      "outputs": [
        {
          "output_type": "stream",
          "name": "stdout",
          "text": [
            "     0    1\n",
            "0  NaN  NaN\n",
            "1  NaN  NaN\n",
            "2  NaN  NaN\n"
          ]
        }
      ]
    },
    {
      "cell_type": "code",
      "source": [
        "df.shape"
      ],
      "metadata": {
        "colab": {
          "base_uri": "https://localhost:8080/"
        },
        "id": "MpxVDgOX5RFy",
        "outputId": "7cc08402-879f-4664-e032-0f7790b745c8"
      },
      "execution_count": 20,
      "outputs": [
        {
          "output_type": "execute_result",
          "data": {
            "text/plain": [
              "(3, 2)"
            ]
          },
          "metadata": {},
          "execution_count": 20
        }
      ]
    },
    {
      "cell_type": "markdown",
      "source": [
        "**9.Generate the series of dates from 1st Jan, 2023 to 10th Feb, 2023**"
      ],
      "metadata": {
        "id": "ijZUECHb6O2v"
      }
    },
    {
      "cell_type": "code",
      "source": [
        "date = pd.date_range(\"01-01-2023\", \"11-02-2023\")\n",
        "print(date)"
      ],
      "metadata": {
        "colab": {
          "base_uri": "https://localhost:8080/"
        },
        "id": "-x8STOl96RBq",
        "outputId": "2244bb30-dcc6-4aff-f4ab-de8b272ad4e1"
      },
      "execution_count": 21,
      "outputs": [
        {
          "output_type": "stream",
          "name": "stdout",
          "text": [
            "DatetimeIndex(['2023-01-01', '2023-01-02', '2023-01-03', '2023-01-04',\n",
            "               '2023-01-05', '2023-01-06', '2023-01-07', '2023-01-08',\n",
            "               '2023-01-09', '2023-01-10',\n",
            "               ...\n",
            "               '2023-10-24', '2023-10-25', '2023-10-26', '2023-10-27',\n",
            "               '2023-10-28', '2023-10-29', '2023-10-30', '2023-10-31',\n",
            "               '2023-11-01', '2023-11-02'],\n",
            "              dtype='datetime64[ns]', length=306, freq='D')\n"
          ]
        }
      ]
    },
    {
      "cell_type": "markdown",
      "source": [
        "**10. Create 2D list to DataFrame**"
      ],
      "metadata": {
        "id": "AqUzmT8h6YJC"
      }
    },
    {
      "cell_type": "code",
      "source": [
        "lists = [[1, 'aaa', 22], [2, 'bbb', 25], [3, 'ccc', 24]]"
      ],
      "metadata": {
        "id": "TsIMNHQL6Z9N"
      },
      "execution_count": 23,
      "outputs": []
    },
    {
      "cell_type": "code",
      "source": [
        "data = pd.DataFrame.from_records(lists)\n",
        "print(data)"
      ],
      "metadata": {
        "colab": {
          "base_uri": "https://localhost:8080/"
        },
        "id": "7fdyV64r6gMt",
        "outputId": "cfaf03b6-6a3a-43a0-d793-7929fe567881"
      },
      "execution_count": 24,
      "outputs": [
        {
          "output_type": "stream",
          "name": "stdout",
          "text": [
            "   0    1   2\n",
            "0  1  aaa  22\n",
            "1  2  bbb  25\n",
            "2  3  ccc  24\n"
          ]
        }
      ]
    }
  ]
}